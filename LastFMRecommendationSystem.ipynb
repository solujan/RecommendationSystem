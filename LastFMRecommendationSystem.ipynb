{
  "nbformat": 4,
  "nbformat_minor": 0,
  "metadata": {
    "colab": {
      "name": "RecommendationSystem",
      "provenance": [],
      "collapsed_sections": [],
      "toc_visible": true,
      "machine_shape": "hm"
    },
    "kernelspec": {
      "name": "python3",
      "display_name": "Python 3"
    }
  },
  "cells": [
    {
      "cell_type": "code",
      "metadata": {
        "id": "8KAE9xZd0ZH9",
        "colab_type": "code",
        "outputId": "83673a5e-20da-47e3-9154-9086b80b1cb3",
        "colab": {
          "base_uri": "https://localhost:8080/",
          "height": 265
        }
      },
      "source": [
        "!pip install scikit-surprise"
      ],
      "execution_count": 0,
      "outputs": [
        {
          "output_type": "stream",
          "text": [
            "Collecting scikit-surprise\n",
            "\u001b[?25l  Downloading https://files.pythonhosted.org/packages/f5/da/b5700d96495fb4f092be497f02492768a3d96a3f4fa2ae7dea46d4081cfa/scikit-surprise-1.1.0.tar.gz (6.4MB)\n",
            "\u001b[K     |████████████████████████████████| 6.5MB 3.1MB/s \n",
            "\u001b[?25hRequirement already satisfied: joblib>=0.11 in /usr/local/lib/python3.6/dist-packages (from scikit-surprise) (0.14.0)\n",
            "Requirement already satisfied: numpy>=1.11.2 in /usr/local/lib/python3.6/dist-packages (from scikit-surprise) (1.17.4)\n",
            "Requirement already satisfied: scipy>=1.0.0 in /usr/local/lib/python3.6/dist-packages (from scikit-surprise) (1.3.2)\n",
            "Requirement already satisfied: six>=1.10.0 in /usr/local/lib/python3.6/dist-packages (from scikit-surprise) (1.12.0)\n",
            "Building wheels for collected packages: scikit-surprise\n",
            "  Building wheel for scikit-surprise (setup.py) ... \u001b[?25l\u001b[?25hdone\n",
            "  Created wheel for scikit-surprise: filename=scikit_surprise-1.1.0-cp36-cp36m-linux_x86_64.whl size=1678220 sha256=0215543a631b09f8db44827d705f4c8346d80ef7ea5a7a4831b38f7e84f09633\n",
            "  Stored in directory: /root/.cache/pip/wheels/cc/fa/8c/16c93fccce688ae1bde7d979ff102f7bee980d9cfeb8641bcf\n",
            "Successfully built scikit-surprise\n",
            "Installing collected packages: scikit-surprise\n",
            "Successfully installed scikit-surprise-1.1.0\n"
          ],
          "name": "stdout"
        }
      ]
    },
    {
      "cell_type": "code",
      "metadata": {
        "id": "DvVksMYg01Sz",
        "colab_type": "code",
        "outputId": "11848e0a-c211-46ed-f15d-97730e1fe25e",
        "colab": {
          "base_uri": "https://localhost:8080/",
          "height": 34
        }
      },
      "source": [
        "import surprise\n",
        "\n",
        "surprise.__version__"
      ],
      "execution_count": 0,
      "outputs": [
        {
          "output_type": "execute_result",
          "data": {
            "text/plain": [
              "'1.1.0'"
            ]
          },
          "metadata": {
            "tags": []
          },
          "execution_count": 4
        }
      ]
    },
    {
      "cell_type": "code",
      "metadata": {
        "id": "IOEBaitl07Hh",
        "colab_type": "code",
        "outputId": "e7af804d-8774-450b-e7d2-1bc99e67eccd",
        "colab": {
          "base_uri": "https://localhost:8080/",
          "height": 212
        }
      },
      "source": [
        "%%bash\n",
        "\n",
        "mkdir -p data/lastfm/\n",
        "curl -LO http://files.grouplens.org/datasets/hetrec2011/hetrec2011-lastfm-2k.zip\n",
        "unzip hetrec2011-lastfm-2k.zip -d data/lastfm/\n",
        "rm -f hetrec2011-lastfm-2k.zip"
      ],
      "execution_count": 0,
      "outputs": [
        {
          "output_type": "stream",
          "text": [
            "Archive:  hetrec2011-lastfm-2k.zip\n",
            "  inflating: data/lastfm/user_friends.dat  \n",
            "  inflating: data/lastfm/user_taggedartists.dat  \n",
            "  inflating: data/lastfm/user_taggedartists-timestamps.dat  \n",
            "  inflating: data/lastfm/artists.dat  \n",
            "  inflating: data/lastfm/readme.txt  \n",
            "  inflating: data/lastfm/tags.dat    \n",
            "  inflating: data/lastfm/user_artists.dat  \n"
          ],
          "name": "stdout"
        },
        {
          "output_type": "stream",
          "text": [
            "  % Total    % Received % Xferd  Average Speed   Time    Time     Time  Current\n",
            "                                 Dload  Upload   Total   Spent    Left  Speed\n",
            "\r  0     0    0     0    0     0      0      0 --:--:-- --:--:-- --:--:--     0\r 17 2528k   17  449k    0     0  1123k      0  0:00:02 --:--:--  0:00:02 1120k\r100 2528k  100 2528k    0     0  5643k      0 --:--:-- --:--:-- --:--:-- 5631k\n"
          ],
          "name": "stderr"
        }
      ]
    },
    {
      "cell_type": "code",
      "metadata": {
        "id": "3cSznmve1MsQ",
        "colab_type": "code",
        "colab": {}
      },
      "source": [
        "%matplotlib inline\n",
        "import pandas as pd\n",
        "import matplotlib.pyplot as plt\n",
        "import numpy as np\n",
        "import seaborn as sns"
      ],
      "execution_count": 0,
      "outputs": []
    },
    {
      "cell_type": "code",
      "metadata": {
        "id": "l2zkgs8k3xei",
        "colab_type": "code",
        "outputId": "0004ea80-e722-4fb4-b217-85afacca7ae9",
        "colab": {
          "base_uri": "https://localhost:8080/",
          "height": 176
        }
      },
      "source": [
        "artist_data = pd.read_csv(\"./data/lastfm/artists.dat\", sep=\"\\t\")\n",
        "artist_data.info()"
      ],
      "execution_count": 0,
      "outputs": [
        {
          "output_type": "stream",
          "text": [
            "<class 'pandas.core.frame.DataFrame'>\n",
            "RangeIndex: 17632 entries, 0 to 17631\n",
            "Data columns (total 4 columns):\n",
            "id            17632 non-null int64\n",
            "name          17632 non-null object\n",
            "url           17632 non-null object\n",
            "pictureURL    17188 non-null object\n",
            "dtypes: int64(1), object(3)\n",
            "memory usage: 551.1+ KB\n"
          ],
          "name": "stdout"
        }
      ]
    },
    {
      "cell_type": "code",
      "metadata": {
        "id": "Fnd1QoXXrkTR",
        "colab_type": "code",
        "outputId": "9c28eac9-84cf-4eb6-b32d-7f5f1837cab6",
        "colab": {
          "base_uri": "https://localhost:8080/",
          "height": 197
        }
      },
      "source": [
        "artist_data.head()"
      ],
      "execution_count": 0,
      "outputs": [
        {
          "output_type": "execute_result",
          "data": {
            "text/html": [
              "<div>\n",
              "<style scoped>\n",
              "    .dataframe tbody tr th:only-of-type {\n",
              "        vertical-align: middle;\n",
              "    }\n",
              "\n",
              "    .dataframe tbody tr th {\n",
              "        vertical-align: top;\n",
              "    }\n",
              "\n",
              "    .dataframe thead th {\n",
              "        text-align: right;\n",
              "    }\n",
              "</style>\n",
              "<table border=\"1\" class=\"dataframe\">\n",
              "  <thead>\n",
              "    <tr style=\"text-align: right;\">\n",
              "      <th></th>\n",
              "      <th>id</th>\n",
              "      <th>name</th>\n",
              "      <th>url</th>\n",
              "      <th>pictureURL</th>\n",
              "    </tr>\n",
              "  </thead>\n",
              "  <tbody>\n",
              "    <tr>\n",
              "      <th>0</th>\n",
              "      <td>1</td>\n",
              "      <td>MALICE MIZER</td>\n",
              "      <td>http://www.last.fm/music/MALICE+MIZER</td>\n",
              "      <td>http://userserve-ak.last.fm/serve/252/10808.jpg</td>\n",
              "    </tr>\n",
              "    <tr>\n",
              "      <th>1</th>\n",
              "      <td>2</td>\n",
              "      <td>Diary of Dreams</td>\n",
              "      <td>http://www.last.fm/music/Diary+of+Dreams</td>\n",
              "      <td>http://userserve-ak.last.fm/serve/252/3052066.jpg</td>\n",
              "    </tr>\n",
              "    <tr>\n",
              "      <th>2</th>\n",
              "      <td>3</td>\n",
              "      <td>Carpathian Forest</td>\n",
              "      <td>http://www.last.fm/music/Carpathian+Forest</td>\n",
              "      <td>http://userserve-ak.last.fm/serve/252/40222717...</td>\n",
              "    </tr>\n",
              "    <tr>\n",
              "      <th>3</th>\n",
              "      <td>4</td>\n",
              "      <td>Moi dix Mois</td>\n",
              "      <td>http://www.last.fm/music/Moi+dix+Mois</td>\n",
              "      <td>http://userserve-ak.last.fm/serve/252/54697835...</td>\n",
              "    </tr>\n",
              "    <tr>\n",
              "      <th>4</th>\n",
              "      <td>5</td>\n",
              "      <td>Bella Morte</td>\n",
              "      <td>http://www.last.fm/music/Bella+Morte</td>\n",
              "      <td>http://userserve-ak.last.fm/serve/252/14789013...</td>\n",
              "    </tr>\n",
              "  </tbody>\n",
              "</table>\n",
              "</div>"
            ],
            "text/plain": [
              "   id  ...                                         pictureURL\n",
              "0   1  ...    http://userserve-ak.last.fm/serve/252/10808.jpg\n",
              "1   2  ...  http://userserve-ak.last.fm/serve/252/3052066.jpg\n",
              "2   3  ...  http://userserve-ak.last.fm/serve/252/40222717...\n",
              "3   4  ...  http://userserve-ak.last.fm/serve/252/54697835...\n",
              "4   5  ...  http://userserve-ak.last.fm/serve/252/14789013...\n",
              "\n",
              "[5 rows x 4 columns]"
            ]
          },
          "metadata": {
            "tags": []
          },
          "execution_count": 8
        }
      ]
    },
    {
      "cell_type": "code",
      "metadata": {
        "id": "69III7E430iX",
        "colab_type": "code",
        "outputId": "a7d5a836-287c-44ed-823d-53e6b253ff2a",
        "colab": {
          "base_uri": "https://localhost:8080/",
          "height": 158
        }
      },
      "source": [
        "user_artist_plays = pd.read_csv(\"./data/lastfm/user_artists.dat\", sep=\"\\t\")\n",
        "user_artist_plays.info()"
      ],
      "execution_count": 0,
      "outputs": [
        {
          "output_type": "stream",
          "text": [
            "<class 'pandas.core.frame.DataFrame'>\n",
            "RangeIndex: 92834 entries, 0 to 92833\n",
            "Data columns (total 3 columns):\n",
            "userID      92834 non-null int64\n",
            "artistID    92834 non-null int64\n",
            "weight      92834 non-null int64\n",
            "dtypes: int64(3)\n",
            "memory usage: 2.1 MB\n"
          ],
          "name": "stdout"
        }
      ]
    },
    {
      "cell_type": "code",
      "metadata": {
        "id": "4c5D09jQrm6V",
        "colab_type": "code",
        "outputId": "4ce763f2-e756-4391-d956-9852dc4503fc",
        "colab": {
          "base_uri": "https://localhost:8080/",
          "height": 197
        }
      },
      "source": [
        "user_artist_plays.head()"
      ],
      "execution_count": 0,
      "outputs": [
        {
          "output_type": "execute_result",
          "data": {
            "text/html": [
              "<div>\n",
              "<style scoped>\n",
              "    .dataframe tbody tr th:only-of-type {\n",
              "        vertical-align: middle;\n",
              "    }\n",
              "\n",
              "    .dataframe tbody tr th {\n",
              "        vertical-align: top;\n",
              "    }\n",
              "\n",
              "    .dataframe thead th {\n",
              "        text-align: right;\n",
              "    }\n",
              "</style>\n",
              "<table border=\"1\" class=\"dataframe\">\n",
              "  <thead>\n",
              "    <tr style=\"text-align: right;\">\n",
              "      <th></th>\n",
              "      <th>userID</th>\n",
              "      <th>artistID</th>\n",
              "      <th>weight</th>\n",
              "    </tr>\n",
              "  </thead>\n",
              "  <tbody>\n",
              "    <tr>\n",
              "      <th>0</th>\n",
              "      <td>2</td>\n",
              "      <td>51</td>\n",
              "      <td>13883</td>\n",
              "    </tr>\n",
              "    <tr>\n",
              "      <th>1</th>\n",
              "      <td>2</td>\n",
              "      <td>52</td>\n",
              "      <td>11690</td>\n",
              "    </tr>\n",
              "    <tr>\n",
              "      <th>2</th>\n",
              "      <td>2</td>\n",
              "      <td>53</td>\n",
              "      <td>11351</td>\n",
              "    </tr>\n",
              "    <tr>\n",
              "      <th>3</th>\n",
              "      <td>2</td>\n",
              "      <td>54</td>\n",
              "      <td>10300</td>\n",
              "    </tr>\n",
              "    <tr>\n",
              "      <th>4</th>\n",
              "      <td>2</td>\n",
              "      <td>55</td>\n",
              "      <td>8983</td>\n",
              "    </tr>\n",
              "  </tbody>\n",
              "</table>\n",
              "</div>"
            ],
            "text/plain": [
              "   userID  artistID  weight\n",
              "0       2        51   13883\n",
              "1       2        52   11690\n",
              "2       2        53   11351\n",
              "3       2        54   10300\n",
              "4       2        55    8983"
            ]
          },
          "metadata": {
            "tags": []
          },
          "execution_count": 10
        }
      ]
    },
    {
      "cell_type": "code",
      "metadata": {
        "id": "pa2FYmz933Q3",
        "colab_type": "code",
        "outputId": "1c923015-8c4f-4b67-c4a0-f343f0c0daed",
        "colab": {
          "base_uri": "https://localhost:8080/",
          "height": 212
        }
      },
      "source": [
        "user_tagged_artist = pd.read_csv(\"./data/lastfm/user_taggedartists.dat\", sep=\"\\t\")\n",
        "user_tagged_artist.info()"
      ],
      "execution_count": 0,
      "outputs": [
        {
          "output_type": "stream",
          "text": [
            "<class 'pandas.core.frame.DataFrame'>\n",
            "RangeIndex: 186479 entries, 0 to 186478\n",
            "Data columns (total 6 columns):\n",
            "userID      186479 non-null int64\n",
            "artistID    186479 non-null int64\n",
            "tagID       186479 non-null int64\n",
            "day         186479 non-null int64\n",
            "month       186479 non-null int64\n",
            "year        186479 non-null int64\n",
            "dtypes: int64(6)\n",
            "memory usage: 8.5 MB\n"
          ],
          "name": "stdout"
        }
      ]
    },
    {
      "cell_type": "code",
      "metadata": {
        "id": "xPsLz_HXrqs1",
        "colab_type": "code",
        "outputId": "de73597e-8242-48fe-dec8-c04ba9fb0f28",
        "colab": {
          "base_uri": "https://localhost:8080/",
          "height": 197
        }
      },
      "source": [
        "user_tagged_artist.head()\n"
      ],
      "execution_count": 0,
      "outputs": [
        {
          "output_type": "execute_result",
          "data": {
            "text/html": [
              "<div>\n",
              "<style scoped>\n",
              "    .dataframe tbody tr th:only-of-type {\n",
              "        vertical-align: middle;\n",
              "    }\n",
              "\n",
              "    .dataframe tbody tr th {\n",
              "        vertical-align: top;\n",
              "    }\n",
              "\n",
              "    .dataframe thead th {\n",
              "        text-align: right;\n",
              "    }\n",
              "</style>\n",
              "<table border=\"1\" class=\"dataframe\">\n",
              "  <thead>\n",
              "    <tr style=\"text-align: right;\">\n",
              "      <th></th>\n",
              "      <th>userID</th>\n",
              "      <th>artistID</th>\n",
              "      <th>tagID</th>\n",
              "      <th>day</th>\n",
              "      <th>month</th>\n",
              "      <th>year</th>\n",
              "    </tr>\n",
              "  </thead>\n",
              "  <tbody>\n",
              "    <tr>\n",
              "      <th>0</th>\n",
              "      <td>2</td>\n",
              "      <td>52</td>\n",
              "      <td>13</td>\n",
              "      <td>1</td>\n",
              "      <td>4</td>\n",
              "      <td>2009</td>\n",
              "    </tr>\n",
              "    <tr>\n",
              "      <th>1</th>\n",
              "      <td>2</td>\n",
              "      <td>52</td>\n",
              "      <td>15</td>\n",
              "      <td>1</td>\n",
              "      <td>4</td>\n",
              "      <td>2009</td>\n",
              "    </tr>\n",
              "    <tr>\n",
              "      <th>2</th>\n",
              "      <td>2</td>\n",
              "      <td>52</td>\n",
              "      <td>18</td>\n",
              "      <td>1</td>\n",
              "      <td>4</td>\n",
              "      <td>2009</td>\n",
              "    </tr>\n",
              "    <tr>\n",
              "      <th>3</th>\n",
              "      <td>2</td>\n",
              "      <td>52</td>\n",
              "      <td>21</td>\n",
              "      <td>1</td>\n",
              "      <td>4</td>\n",
              "      <td>2009</td>\n",
              "    </tr>\n",
              "    <tr>\n",
              "      <th>4</th>\n",
              "      <td>2</td>\n",
              "      <td>52</td>\n",
              "      <td>41</td>\n",
              "      <td>1</td>\n",
              "      <td>4</td>\n",
              "      <td>2009</td>\n",
              "    </tr>\n",
              "  </tbody>\n",
              "</table>\n",
              "</div>"
            ],
            "text/plain": [
              "   userID  artistID  tagID  day  month  year\n",
              "0       2        52     13    1      4  2009\n",
              "1       2        52     15    1      4  2009\n",
              "2       2        52     18    1      4  2009\n",
              "3       2        52     21    1      4  2009\n",
              "4       2        52     41    1      4  2009"
            ]
          },
          "metadata": {
            "tags": []
          },
          "execution_count": 12
        }
      ]
    },
    {
      "cell_type": "code",
      "metadata": {
        "id": "EYjvUUbI2IT1",
        "colab_type": "code",
        "outputId": "6b425e4b-126c-4338-9fc1-110126e02879",
        "colab": {
          "base_uri": "https://localhost:8080/",
          "height": 141
        }
      },
      "source": [
        "tag = pd.read_csv(\"./data/lastfm/tags.dat\", sep=\"\\t\", encoding='latin-1')\n",
        "tag.info()"
      ],
      "execution_count": 0,
      "outputs": [
        {
          "output_type": "stream",
          "text": [
            "<class 'pandas.core.frame.DataFrame'>\n",
            "RangeIndex: 11946 entries, 0 to 11945\n",
            "Data columns (total 2 columns):\n",
            "tagID       11946 non-null int64\n",
            "tagValue    11946 non-null object\n",
            "dtypes: int64(1), object(1)\n",
            "memory usage: 186.8+ KB\n"
          ],
          "name": "stdout"
        }
      ]
    },
    {
      "cell_type": "code",
      "metadata": {
        "id": "UvaK1dEUrt8q",
        "colab_type": "code",
        "outputId": "eedd8568-0fa7-4b69-ab23-1460fbac258e",
        "colab": {
          "base_uri": "https://localhost:8080/",
          "height": 197
        }
      },
      "source": [
        "tag.head()"
      ],
      "execution_count": 0,
      "outputs": [
        {
          "output_type": "execute_result",
          "data": {
            "text/html": [
              "<div>\n",
              "<style scoped>\n",
              "    .dataframe tbody tr th:only-of-type {\n",
              "        vertical-align: middle;\n",
              "    }\n",
              "\n",
              "    .dataframe tbody tr th {\n",
              "        vertical-align: top;\n",
              "    }\n",
              "\n",
              "    .dataframe thead th {\n",
              "        text-align: right;\n",
              "    }\n",
              "</style>\n",
              "<table border=\"1\" class=\"dataframe\">\n",
              "  <thead>\n",
              "    <tr style=\"text-align: right;\">\n",
              "      <th></th>\n",
              "      <th>tagID</th>\n",
              "      <th>tagValue</th>\n",
              "    </tr>\n",
              "  </thead>\n",
              "  <tbody>\n",
              "    <tr>\n",
              "      <th>0</th>\n",
              "      <td>1</td>\n",
              "      <td>metal</td>\n",
              "    </tr>\n",
              "    <tr>\n",
              "      <th>1</th>\n",
              "      <td>2</td>\n",
              "      <td>alternative metal</td>\n",
              "    </tr>\n",
              "    <tr>\n",
              "      <th>2</th>\n",
              "      <td>3</td>\n",
              "      <td>goth rock</td>\n",
              "    </tr>\n",
              "    <tr>\n",
              "      <th>3</th>\n",
              "      <td>4</td>\n",
              "      <td>black metal</td>\n",
              "    </tr>\n",
              "    <tr>\n",
              "      <th>4</th>\n",
              "      <td>5</td>\n",
              "      <td>death metal</td>\n",
              "    </tr>\n",
              "  </tbody>\n",
              "</table>\n",
              "</div>"
            ],
            "text/plain": [
              "   tagID           tagValue\n",
              "0      1              metal\n",
              "1      2  alternative metal\n",
              "2      3          goth rock\n",
              "3      4        black metal\n",
              "4      5        death metal"
            ]
          },
          "metadata": {
            "tags": []
          },
          "execution_count": 14
        }
      ]
    },
    {
      "cell_type": "markdown",
      "metadata": {
        "id": "e2wGyRXk4A-F",
        "colab_type": "text"
      },
      "source": [
        "\n",
        "### Ejercicio 1 - Análisis Exploratorio de Datos¶\n",
        "En esta primera parte deberán hacer un análisis exploratorio de los datos, aprovechando toda la información brindada por el conjunto. A partir de eso podrán tener mayor idea de qué tipo de datos estarán enfrentando (describe o hist).\n",
        "\n",
        "Algunas preguntas para responder:\n",
        "\n",
        "- ¿Cuáles son los artistas que fueron más escuchados?\n",
        "- ¿Cómo es la distribución de cantidad de listens por user?\n",
        "- ¿Es posible ver el género más escuchado?"
      ]
    },
    {
      "cell_type": "code",
      "metadata": {
        "id": "mtb3pSV-lp4F",
        "colab_type": "code",
        "outputId": "8d899371-2e0f-4149-e2b0-8cb3d6f5a773",
        "colab": {
          "base_uri": "https://localhost:8080/",
          "height": 100
        }
      },
      "source": [
        "n_ratings = len(user_artist_plays)\n",
        "n_artist = user_artist_plays['artistID'].nunique()\n",
        "n_users = user_artist_plays['userID'].nunique()\n",
        "\n",
        "print(f\"Number of ratings: {n_ratings}\")\n",
        "print(f\"Number of unique artist's: {n_artist}\")\n",
        "print(f\"Number of unique users: {n_users}\")\n",
        "print(f\"Average number of listen per user: {round(n_ratings/n_users, 2)}\")\n",
        "print(f\"Average number of listen per artist: {round(n_ratings/n_artist, 2)}\")"
      ],
      "execution_count": 0,
      "outputs": [
        {
          "output_type": "stream",
          "text": [
            "Number of ratings: 92834\n",
            "Number of unique artist's: 17632\n",
            "Number of unique users: 1892\n",
            "Average number of listen per user: 49.07\n",
            "Average number of listen per artist: 5.27\n"
          ],
          "name": "stdout"
        }
      ]
    },
    {
      "cell_type": "markdown",
      "metadata": {
        "id": "tgKh3uEdwmS0",
        "colab_type": "text"
      },
      "source": [
        "\n",
        "\n",
        "#### 1.   Most listened artists  \n",
        "\n",
        "\n"
      ]
    },
    {
      "cell_type": "code",
      "metadata": {
        "id": "Dzq0nHQn4DvO",
        "colab_type": "code",
        "outputId": "5d6cc168-860e-405b-9da8-e28252577d1f",
        "colab": {
          "base_uri": "https://localhost:8080/",
          "height": 334
        }
      },
      "source": [
        "top_artist = user_artist_plays.groupby(['artistID'])['weight'].sum().reset_index().sort_values('weight', ascending=False).head(10)\n",
        "artist_data.rename(columns={'id':'artistID'}, inplace=True)\n",
        "artist_weight_name = pd.merge(top_artist,\n",
        "                 artist_data[['artistID', 'name']],\n",
        "                 on='artistID')\n",
        "artist_weight_name.head(10)"
      ],
      "execution_count": 0,
      "outputs": [
        {
          "output_type": "execute_result",
          "data": {
            "text/html": [
              "<div>\n",
              "<style scoped>\n",
              "    .dataframe tbody tr th:only-of-type {\n",
              "        vertical-align: middle;\n",
              "    }\n",
              "\n",
              "    .dataframe tbody tr th {\n",
              "        vertical-align: top;\n",
              "    }\n",
              "\n",
              "    .dataframe thead th {\n",
              "        text-align: right;\n",
              "    }\n",
              "</style>\n",
              "<table border=\"1\" class=\"dataframe\">\n",
              "  <thead>\n",
              "    <tr style=\"text-align: right;\">\n",
              "      <th></th>\n",
              "      <th>artistID</th>\n",
              "      <th>weight</th>\n",
              "      <th>name</th>\n",
              "    </tr>\n",
              "  </thead>\n",
              "  <tbody>\n",
              "    <tr>\n",
              "      <th>0</th>\n",
              "      <td>289</td>\n",
              "      <td>2393140</td>\n",
              "      <td>Britney Spears</td>\n",
              "    </tr>\n",
              "    <tr>\n",
              "      <th>1</th>\n",
              "      <td>72</td>\n",
              "      <td>1301308</td>\n",
              "      <td>Depeche Mode</td>\n",
              "    </tr>\n",
              "    <tr>\n",
              "      <th>2</th>\n",
              "      <td>89</td>\n",
              "      <td>1291387</td>\n",
              "      <td>Lady Gaga</td>\n",
              "    </tr>\n",
              "    <tr>\n",
              "      <th>3</th>\n",
              "      <td>292</td>\n",
              "      <td>1058405</td>\n",
              "      <td>Christina Aguilera</td>\n",
              "    </tr>\n",
              "    <tr>\n",
              "      <th>4</th>\n",
              "      <td>498</td>\n",
              "      <td>963449</td>\n",
              "      <td>Paramore</td>\n",
              "    </tr>\n",
              "    <tr>\n",
              "      <th>5</th>\n",
              "      <td>67</td>\n",
              "      <td>921198</td>\n",
              "      <td>Madonna</td>\n",
              "    </tr>\n",
              "    <tr>\n",
              "      <th>6</th>\n",
              "      <td>288</td>\n",
              "      <td>905423</td>\n",
              "      <td>Rihanna</td>\n",
              "    </tr>\n",
              "    <tr>\n",
              "      <th>7</th>\n",
              "      <td>701</td>\n",
              "      <td>688529</td>\n",
              "      <td>Shakira</td>\n",
              "    </tr>\n",
              "    <tr>\n",
              "      <th>8</th>\n",
              "      <td>227</td>\n",
              "      <td>662116</td>\n",
              "      <td>The Beatles</td>\n",
              "    </tr>\n",
              "    <tr>\n",
              "      <th>9</th>\n",
              "      <td>300</td>\n",
              "      <td>532545</td>\n",
              "      <td>Katy Perry</td>\n",
              "    </tr>\n",
              "  </tbody>\n",
              "</table>\n",
              "</div>"
            ],
            "text/plain": [
              "   artistID   weight                name\n",
              "0       289  2393140      Britney Spears\n",
              "1        72  1301308        Depeche Mode\n",
              "2        89  1291387           Lady Gaga\n",
              "3       292  1058405  Christina Aguilera\n",
              "4       498   963449            Paramore\n",
              "5        67   921198             Madonna\n",
              "6       288   905423             Rihanna\n",
              "7       701   688529             Shakira\n",
              "8       227   662116         The Beatles\n",
              "9       300   532545          Katy Perry"
            ]
          },
          "metadata": {
            "tags": []
          },
          "execution_count": 14
        }
      ]
    },
    {
      "cell_type": "code",
      "metadata": {
        "id": "TYsa6ROEpVEo",
        "colab_type": "code",
        "colab": {}
      },
      "source": [
        "def to_categorical(column, bin_size=5, min_cut=15, max_cut=50):\n",
        "    if min_cut is None:\n",
        "        min_cut = int(round(column.min())) - 1\n",
        "    value_max = int(np.ceil(column.max()))\n",
        "    max_cut = min(max_cut, value_max)\n",
        "    intervals = [(x, x+bin_size) for x in range(min_cut, max_cut, bin_size)]\n",
        "    if max_cut != value_max:\n",
        "        intervals.append((max_cut, value_max))\n",
        "    return pd.cut(column, pd.IntervalIndex.from_tuples(intervals))"
      ],
      "execution_count": 0,
      "outputs": []
    },
    {
      "cell_type": "code",
      "metadata": {
        "id": "A9cPTeOtmUfV",
        "colab_type": "code",
        "outputId": "60d02731-95af-4ede-87b1-f7ef0ef8fc8b",
        "colab": {
          "base_uri": "https://localhost:8080/",
          "height": 351
        }
      },
      "source": [
        "sns.countplot(to_categorical(user_artist_plays.weight, 500, 0, 10000), palette=\"viridis\")\n",
        "plt.xticks(rotation=45)\n",
        "plt.title(\"Distribution of weight\", fontsize=14)\n",
        "plt.show()"
      ],
      "execution_count": 0,
      "outputs": [
        {
          "output_type": "display_data",
          "data": {
            "image/png": "[encoded data removed]",
            "text/plain": [
              "<Figure size 432x288 with 1 Axes>"
            ]
          },
          "metadata": {
            "tags": []
          }
        }
      ]
    },
    {
      "cell_type": "markdown",
      "metadata": {
        "id": "PkDNyW_Kw8eV",
        "colab_type": "text"
      },
      "source": [
        "\n",
        "\n",
        "#### 2.   Most listened genre\n",
        "\n"
      ]
    },
    {
      "cell_type": "code",
      "metadata": {
        "id": "AmpQvie45qyh",
        "colab_type": "code",
        "outputId": "889f5a5c-4a8c-44eb-94ee-4e8ed2a5240a",
        "colab": {
          "base_uri": "https://localhost:8080/",
          "height": 334
        }
      },
      "source": [
        "result = pd.merge(user_tagged_artist,\n",
        "                 user_artist_plays[['artistID', 'weight','userID']],\n",
        "                 on=['artistID','userID'])\n",
        "\n",
        "top_tag = result.groupby(['tagID'])['weight'].sum().reset_index().sort_values('weight', ascending=False).head(10)\n",
        "result_tag = pd.merge(top_tag,\n",
        "                 tag[['tagID', 'tagValue']],\n",
        "                 on='tagID')\n",
        "result_tag.head(10)"
      ],
      "execution_count": 0,
      "outputs": [
        {
          "output_type": "execute_result",
          "data": {
            "text/html": [
              "<div>\n",
              "<style scoped>\n",
              "    .dataframe tbody tr th:only-of-type {\n",
              "        vertical-align: middle;\n",
              "    }\n",
              "\n",
              "    .dataframe tbody tr th {\n",
              "        vertical-align: top;\n",
              "    }\n",
              "\n",
              "    .dataframe thead th {\n",
              "        text-align: right;\n",
              "    }\n",
              "</style>\n",
              "<table border=\"1\" class=\"dataframe\">\n",
              "  <thead>\n",
              "    <tr style=\"text-align: right;\">\n",
              "      <th></th>\n",
              "      <th>tagID</th>\n",
              "      <th>weight</th>\n",
              "      <th>tagValue</th>\n",
              "    </tr>\n",
              "  </thead>\n",
              "  <tbody>\n",
              "    <tr>\n",
              "      <th>0</th>\n",
              "      <td>24</td>\n",
              "      <td>6208564</td>\n",
              "      <td>pop</td>\n",
              "    </tr>\n",
              "    <tr>\n",
              "      <th>1</th>\n",
              "      <td>73</td>\n",
              "      <td>5081342</td>\n",
              "      <td>rock</td>\n",
              "    </tr>\n",
              "    <tr>\n",
              "      <th>2</th>\n",
              "      <td>130</td>\n",
              "      <td>4336277</td>\n",
              "      <td>female vocalists</td>\n",
              "    </tr>\n",
              "    <tr>\n",
              "      <th>3</th>\n",
              "      <td>18</td>\n",
              "      <td>3422492</td>\n",
              "      <td>electronic</td>\n",
              "    </tr>\n",
              "    <tr>\n",
              "      <th>4</th>\n",
              "      <td>39</td>\n",
              "      <td>3406754</td>\n",
              "      <td>dance</td>\n",
              "    </tr>\n",
              "    <tr>\n",
              "      <th>5</th>\n",
              "      <td>79</td>\n",
              "      <td>3057909</td>\n",
              "      <td>alternative</td>\n",
              "    </tr>\n",
              "    <tr>\n",
              "      <th>6</th>\n",
              "      <td>127</td>\n",
              "      <td>1966193</td>\n",
              "      <td>seen live</td>\n",
              "    </tr>\n",
              "    <tr>\n",
              "      <th>7</th>\n",
              "      <td>209</td>\n",
              "      <td>1900868</td>\n",
              "      <td>legend</td>\n",
              "    </tr>\n",
              "    <tr>\n",
              "      <th>8</th>\n",
              "      <td>238</td>\n",
              "      <td>1838856</td>\n",
              "      <td>sexy</td>\n",
              "    </tr>\n",
              "    <tr>\n",
              "      <th>9</th>\n",
              "      <td>78</td>\n",
              "      <td>1823838</td>\n",
              "      <td>alternative rock</td>\n",
              "    </tr>\n",
              "  </tbody>\n",
              "</table>\n",
              "</div>"
            ],
            "text/plain": [
              "   tagID   weight          tagValue\n",
              "0     24  6208564               pop\n",
              "1     73  5081342              rock\n",
              "2    130  4336277  female vocalists\n",
              "3     18  3422492        electronic\n",
              "4     39  3406754             dance\n",
              "5     79  3057909       alternative\n",
              "6    127  1966193         seen live\n",
              "7    209  1900868            legend\n",
              "8    238  1838856              sexy\n",
              "9     78  1823838  alternative rock"
            ]
          },
          "metadata": {
            "tags": []
          },
          "execution_count": 18
        }
      ]
    },
    {
      "cell_type": "code",
      "metadata": {
        "id": "EjmqDFZO1re0",
        "colab_type": "code",
        "outputId": "bb1fb209-9904-4b19-c85c-2e0838d43f3f",
        "colab": {
          "base_uri": "https://localhost:8080/",
          "height": 312
        }
      },
      "source": [
        "plt.hlines(y=result_tag.tagValue, xmin=0, xmax=result_tag['weight'], color='skyblue')\n",
        "plt.plot(result_tag['weight'], result_tag.tagValue, \"o\")\n",
        "plt.title(\"Género más escuchados\")\n",
        "plt.xlabel('Weight')\n",
        "plt.ylabel('Género')"
      ],
      "execution_count": 0,
      "outputs": [
        {
          "output_type": "execute_result",
          "data": {
            "text/plain": [
              "Text(0, 0.5, 'Género')"
            ]
          },
          "metadata": {
            "tags": []
          },
          "execution_count": 19
        },
        {
          "output_type": "display_data",
          "data": {
            "image/png": "[encoded data removed]",
            "text/plain": [
              "<Figure size 432x288 with 1 Axes>"
            ]
          },
          "metadata": {
            "tags": []
          }
        }
      ]
    },
    {
      "cell_type": "markdown",
      "metadata": {
        "id": "0n2XiqNr6PkK",
        "colab_type": "text"
      },
      "source": [
        "#### Ratings Distribution"
      ]
    },
    {
      "cell_type": "code",
      "metadata": {
        "id": "tFVZQMeK6lQA",
        "colab_type": "code",
        "outputId": "9defccd5-a604-4790-d4a7-0b0e11721ef3",
        "colab": {
          "base_uri": "https://localhost:8080/",
          "height": 282
        }
      },
      "source": [
        "user_artist_plays['weight'].value_counts().sort_index(ascending=False).plot(kind='kde')\n"
      ],
      "execution_count": 0,
      "outputs": [
        {
          "output_type": "execute_result",
          "data": {
            "text/plain": [
              "<matplotlib.axes._subplots.AxesSubplot at 0x7f6ca7837da0>"
            ]
          },
          "metadata": {
            "tags": []
          },
          "execution_count": 20
        },
        {
          "output_type": "display_data",
          "data": {
            "image/png": "[encoded data removed]",
            "text/plain": [
              "<Figure size 432x288 with 1 Axes>"
            ]
          },
          "metadata": {
            "tags": []
          }
        }
      ]
    },
    {
      "cell_type": "code",
      "metadata": {
        "id": "4dp45NdpvWQO",
        "colab_type": "code",
        "outputId": "47f525fc-be74-4654-caa7-3f35251e4d0b",
        "colab": {
          "base_uri": "https://localhost:8080/",
          "height": 218
        }
      },
      "source": [
        "user_artist_plays['weight'].value_counts().sort_index(ascending=False)"
      ],
      "execution_count": 0,
      "outputs": [
        {
          "output_type": "execute_result",
          "data": {
            "text/plain": [
              "352698      1\n",
              "324663      1\n",
              "320725      1\n",
              "257978      1\n",
              "227829      1\n",
              "         ... \n",
              "5         318\n",
              "4         345\n",
              "3         338\n",
              "2         419\n",
              "1         636\n",
              "Name: weight, Length: 5436, dtype: int64"
            ]
          },
          "metadata": {
            "tags": []
          },
          "execution_count": 21
        }
      ]
    },
    {
      "cell_type": "markdown",
      "metadata": {
        "id": "bPqyGAUluy4B",
        "colab_type": "text"
      },
      "source": [
        "La mayoria de las canciones de los artistas han sido escuchadas entre 0 y 50 veces"
      ]
    },
    {
      "cell_type": "markdown",
      "metadata": {
        "id": "FC_NSfEduLJY",
        "colab_type": "text"
      },
      "source": [
        "#### Ratings Distribution By Artist\n"
      ]
    },
    {
      "cell_type": "code",
      "metadata": {
        "id": "Fj0L5jff89DX",
        "colab_type": "code",
        "outputId": "fad1390d-3fab-4555-d8a1-5cfd19684a38",
        "colab": {
          "base_uri": "https://localhost:8080/",
          "height": 282
        }
      },
      "source": [
        "user_artist_plays.groupby('artistID')['weight'].count().plot(kind='kde')\n"
      ],
      "execution_count": 0,
      "outputs": [
        {
          "output_type": "execute_result",
          "data": {
            "text/plain": [
              "<matplotlib.axes._subplots.AxesSubplot at 0x7f6ca7af82e8>"
            ]
          },
          "metadata": {
            "tags": []
          },
          "execution_count": 22
        },
        {
          "output_type": "display_data",
          "data": {
            "image/png": "[encoded data removed]",
            "text/plain": [
              "<Figure size 432x288 with 1 Axes>"
            ]
          },
          "metadata": {
            "tags": []
          }
        }
      ]
    },
    {
      "cell_type": "code",
      "metadata": {
        "id": "IIxzNk9tvgh3",
        "colab_type": "code",
        "outputId": "a0b15065-d80c-4796-e4d0-dd52737aabdd",
        "colab": {
          "base_uri": "https://localhost:8080/",
          "height": 235
        }
      },
      "source": [
        "user_artist_plays.groupby('artistID')['weight'].count()"
      ],
      "execution_count": 0,
      "outputs": [
        {
          "output_type": "execute_result",
          "data": {
            "text/plain": [
              "artistID\n",
              "1         3\n",
              "2        12\n",
              "3         3\n",
              "4         2\n",
              "5         2\n",
              "         ..\n",
              "18741     1\n",
              "18742     1\n",
              "18743     1\n",
              "18744     1\n",
              "18745     1\n",
              "Name: weight, Length: 17632, dtype: int64"
            ]
          },
          "metadata": {
            "tags": []
          },
          "execution_count": 23
        }
      ]
    },
    {
      "cell_type": "markdown",
      "metadata": {
        "id": "ME9yyKR5u8ml",
        "colab_type": "text"
      },
      "source": [
        "La mayoria de los artistas han sido escuchados entre 0 y 50 veces."
      ]
    },
    {
      "cell_type": "code",
      "metadata": {
        "id": "bpK_z4FSugov",
        "colab_type": "code",
        "outputId": "2592f282-8262-4754-e25f-0224018fd501",
        "colab": {
          "base_uri": "https://localhost:8080/",
          "height": 283
        }
      },
      "source": [
        "user_artist_plays.groupby('userID')['weight'].count().plot(kind='kde')"
      ],
      "execution_count": 0,
      "outputs": [
        {
          "output_type": "execute_result",
          "data": {
            "text/plain": [
              "<matplotlib.axes._subplots.AxesSubplot at 0x7f05b0f91128>"
            ]
          },
          "metadata": {
            "tags": []
          },
          "execution_count": 80
        },
        {
          "output_type": "display_data",
          "data": {
            "image/png": "[encoded data removed]",
            "text/plain": [
              "<Figure size 432x288 with 1 Axes>"
            ]
          },
          "metadata": {
            "tags": []
          }
        }
      ]
    },
    {
      "cell_type": "code",
      "metadata": {
        "id": "nNLTai7uGZEN",
        "colab_type": "code",
        "outputId": "25d7d39b-92d7-48bf-c88d-3e10c11e397f",
        "colab": {
          "base_uri": "https://localhost:8080/",
          "height": 33
        }
      },
      "source": [
        "user_artist_plays.groupby('userID')['weight'].sum()[2]"
      ],
      "execution_count": 0,
      "outputs": [
        {
          "output_type": "execute_result",
          "data": {
            "text/plain": [
              "168737"
            ]
          },
          "metadata": {
            "tags": []
          },
          "execution_count": 39
        }
      ]
    },
    {
      "cell_type": "markdown",
      "metadata": {
        "id": "ubkPVIbR93yo",
        "colab_type": "text"
      },
      "source": [
        "### Normalizacion"
      ]
    },
    {
      "cell_type": "markdown",
      "metadata": {
        "id": "l-ePDVEP99Hy",
        "colab_type": "text"
      },
      "source": [
        "rating user/ suma de todos los rating del usuario"
      ]
    },
    {
      "cell_type": "code",
      "metadata": {
        "id": "kbGxqry0GyXx",
        "colab_type": "code",
        "colab": {}
      },
      "source": [
        "def normalizar(user_artist_plays):\n",
        "    user_artist_plays['weight'] = user_artist_plays.apply(lambda row: row['weight']/user_artist_plays.groupby('userID')['weight'].sum()[row['userID']], axis =  1)\n",
        "    return user_artist_plays"
      ],
      "execution_count": 0,
      "outputs": []
    },
    {
      "cell_type": "markdown",
      "metadata": {
        "id": "s7C-K5QJ97Hr",
        "colab_type": "text"
      },
      "source": [
        "Rating usuario - media de todos los rating del usuario "
      ]
    },
    {
      "cell_type": "code",
      "metadata": {
        "id": "QXtpqwIMMBSB",
        "colab_type": "code",
        "colab": {}
      },
      "source": [
        "def normalizar_libro(user_artist_plays):\n",
        "    user_artist_plays['weight'] = user_artist_plays.apply(lambda row: row['weight']/user_artist_plays.groupby('userID')['weight'].mean()[row['userID']], axis =  1)\n",
        "    return user_artist_plays"
      ],
      "execution_count": 0,
      "outputs": []
    },
    {
      "cell_type": "markdown",
      "metadata": {
        "id": "CLoZrEXovG55",
        "colab_type": "text"
      },
      "source": [
        "La mayoria de los usuarios han esuchado entre 40 y 60 temas."
      ]
    },
    {
      "cell_type": "code",
      "metadata": {
        "id": "AEmzktQoCYXw",
        "colab_type": "code",
        "outputId": "196047cc-bd9d-4931-94aa-9014de711ad6",
        "colab": {
          "base_uri": "https://localhost:8080/",
          "height": 406
        }
      },
      "source": [
        "normalizar_libro(user_artist_plays)"
      ],
      "execution_count": 0,
      "outputs": [
        {
          "output_type": "execute_result",
          "data": {
            "text/html": [
              "<div>\n",
              "<style scoped>\n",
              "    .dataframe tbody tr th:only-of-type {\n",
              "        vertical-align: middle;\n",
              "    }\n",
              "\n",
              "    .dataframe tbody tr th {\n",
              "        vertical-align: top;\n",
              "    }\n",
              "\n",
              "    .dataframe thead th {\n",
              "        text-align: right;\n",
              "    }\n",
              "</style>\n",
              "<table border=\"1\" class=\"dataframe\">\n",
              "  <thead>\n",
              "    <tr style=\"text-align: right;\">\n",
              "      <th></th>\n",
              "      <th>userID</th>\n",
              "      <th>artistID</th>\n",
              "      <th>weight</th>\n",
              "    </tr>\n",
              "  </thead>\n",
              "  <tbody>\n",
              "    <tr>\n",
              "      <th>0</th>\n",
              "      <td>2</td>\n",
              "      <td>51</td>\n",
              "      <td>1.176307</td>\n",
              "    </tr>\n",
              "    <tr>\n",
              "      <th>1</th>\n",
              "      <td>2</td>\n",
              "      <td>52</td>\n",
              "      <td>0.930820</td>\n",
              "    </tr>\n",
              "    <tr>\n",
              "      <th>2</th>\n",
              "      <td>2</td>\n",
              "      <td>53</td>\n",
              "      <td>0.892872</td>\n",
              "    </tr>\n",
              "    <tr>\n",
              "      <th>3</th>\n",
              "      <td>2</td>\n",
              "      <td>54</td>\n",
              "      <td>NaN</td>\n",
              "    </tr>\n",
              "    <tr>\n",
              "      <th>4</th>\n",
              "      <td>2</td>\n",
              "      <td>55</td>\n",
              "      <td>NaN</td>\n",
              "    </tr>\n",
              "    <tr>\n",
              "      <th>...</th>\n",
              "      <td>...</td>\n",
              "      <td>...</td>\n",
              "      <td>...</td>\n",
              "    </tr>\n",
              "    <tr>\n",
              "      <th>92829</th>\n",
              "      <td>2100</td>\n",
              "      <td>18726</td>\n",
              "      <td>NaN</td>\n",
              "    </tr>\n",
              "    <tr>\n",
              "      <th>92830</th>\n",
              "      <td>2100</td>\n",
              "      <td>18727</td>\n",
              "      <td>NaN</td>\n",
              "    </tr>\n",
              "    <tr>\n",
              "      <th>92831</th>\n",
              "      <td>2100</td>\n",
              "      <td>18728</td>\n",
              "      <td>NaN</td>\n",
              "    </tr>\n",
              "    <tr>\n",
              "      <th>92832</th>\n",
              "      <td>2100</td>\n",
              "      <td>18729</td>\n",
              "      <td>NaN</td>\n",
              "    </tr>\n",
              "    <tr>\n",
              "      <th>92833</th>\n",
              "      <td>2100</td>\n",
              "      <td>18730</td>\n",
              "      <td>NaN</td>\n",
              "    </tr>\n",
              "  </tbody>\n",
              "</table>\n",
              "<p>92834 rows × 3 columns</p>\n",
              "</div>"
            ],
            "text/plain": [
              "       userID  artistID    weight\n",
              "0           2        51  1.176307\n",
              "1           2        52  0.930820\n",
              "2           2        53  0.892872\n",
              "3           2        54       NaN\n",
              "4           2        55       NaN\n",
              "...       ...       ...       ...\n",
              "92829    2100     18726       NaN\n",
              "92830    2100     18727       NaN\n",
              "92831    2100     18728       NaN\n",
              "92832    2100     18729       NaN\n",
              "92833    2100     18730       NaN\n",
              "\n",
              "[92834 rows x 3 columns]"
            ]
          },
          "metadata": {
            "tags": []
          },
          "execution_count": 34
        }
      ]
    },
    {
      "cell_type": "code",
      "metadata": {
        "id": "kFTQFrUtCrOg",
        "colab_type": "code",
        "outputId": "d9beaf9e-0ef1-46c5-a993-19d3c1f1a5dc",
        "colab": {
          "base_uri": "https://localhost:8080/",
          "height": 137
        }
      },
      "source": [
        "user_artist_plays[:3]"
      ],
      "execution_count": 0,
      "outputs": [
        {
          "output_type": "execute_result",
          "data": {
            "text/html": [
              "<div>\n",
              "<style scoped>\n",
              "    .dataframe tbody tr th:only-of-type {\n",
              "        vertical-align: middle;\n",
              "    }\n",
              "\n",
              "    .dataframe tbody tr th {\n",
              "        vertical-align: top;\n",
              "    }\n",
              "\n",
              "    .dataframe thead th {\n",
              "        text-align: right;\n",
              "    }\n",
              "</style>\n",
              "<table border=\"1\" class=\"dataframe\">\n",
              "  <thead>\n",
              "    <tr style=\"text-align: right;\">\n",
              "      <th></th>\n",
              "      <th>userID</th>\n",
              "      <th>artistID</th>\n",
              "      <th>weight</th>\n",
              "    </tr>\n",
              "  </thead>\n",
              "  <tbody>\n",
              "    <tr>\n",
              "      <th>0</th>\n",
              "      <td>2</td>\n",
              "      <td>51</td>\n",
              "      <td>10508.26</td>\n",
              "    </tr>\n",
              "    <tr>\n",
              "      <th>1</th>\n",
              "      <td>2</td>\n",
              "      <td>52</td>\n",
              "      <td>8315.26</td>\n",
              "    </tr>\n",
              "    <tr>\n",
              "      <th>2</th>\n",
              "      <td>2</td>\n",
              "      <td>53</td>\n",
              "      <td>7976.26</td>\n",
              "    </tr>\n",
              "  </tbody>\n",
              "</table>\n",
              "</div>"
            ],
            "text/plain": [
              "   userID  artistID    weight\n",
              "0       2        51  10508.26\n",
              "1       2        52   8315.26\n",
              "2       2        53   7976.26"
            ]
          },
          "metadata": {
            "tags": []
          },
          "execution_count": 27
        }
      ]
    },
    {
      "cell_type": "markdown",
      "metadata": {
        "id": "L_Add3qx6JhV",
        "colab_type": "text"
      },
      "source": [
        "## Ejercicio 2"
      ]
    },
    {
      "cell_type": "markdown",
      "metadata": {
        "id": "tb0jHUrCgc4T",
        "colab_type": "text"
      },
      "source": [
        ""
      ]
    },
    {
      "cell_type": "code",
      "metadata": {
        "id": "SJNElwr16TDr",
        "colab_type": "code",
        "colab": {}
      },
      "source": [
        "from scipy.sparse import csr_matrix\n",
        "\n",
        "def create_X(df):\n",
        "    \"\"\"\n",
        "    Generates a sparse matrix from ratings dataframe.\n",
        "    \n",
        "    Args:\n",
        "        df: pandas dataframe containing 3 columns (userId, movieId, rating)\n",
        "    \n",
        "    Returns:\n",
        "        X: sparse matrix\n",
        "        user_mapper: dict that maps user id's to user indices\n",
        "        user_inv_mapper: dict that maps user indices to user id's\n",
        "        movie_mapper: dict that maps movie id's to movie indices\n",
        "        movie_inv_mapper: dict that maps movie indices to movie id's\n",
        "    \"\"\"\n",
        "    M = df['userID'].nunique()\n",
        "    N = df['artistID'].nunique()\n",
        "\n",
        "    user_mapper = dict(zip(np.unique(df[\"userID\"]), list(range(M))))\n",
        "    artist_mapper = dict(zip(np.unique(df[\"artistID\"]), list(range(N))))\n",
        "    \n",
        "    user_inv_mapper = dict(zip(list(range(M)), np.unique(df[\"userID\"])))\n",
        "    artist_inv_mapper = dict(zip(list(range(N)), np.unique(df[\"artistID\"])))\n",
        "    \n",
        "    user_index = [user_mapper[i] for i in df['userID']]\n",
        "    item_index = [artist_mapper[i] for i in df['artistID']]\n",
        "\n",
        "    X = csr_matrix((df[\"weight\"], (user_index,item_index)), shape=(M,N))\n",
        "    \n",
        "    return X, user_mapper, artist_mapper, user_inv_mapper, artist_inv_mapper\n",
        "\n",
        "X, user_mapper, artist_mapper, user_inv_mapper, artist_inv_mapper = create_X(user_artist_plays)"
      ],
      "execution_count": 0,
      "outputs": []
    },
    {
      "cell_type": "code",
      "metadata": {
        "id": "OvLLJV5_7Vdb",
        "colab_type": "code",
        "outputId": "13992647-8f30-4ef2-bb69-8ba1907841b8",
        "colab": {
          "base_uri": "https://localhost:8080/",
          "height": 35
        }
      },
      "source": [
        "n_total = X.shape[0]*X.shape[1]\n",
        "n_ratings = X.nnz\n",
        "sparsity = n_ratings/n_total\n",
        "print(f\"Matrix sparsity: {round(sparsity*100,2)}%\")"
      ],
      "execution_count": 0,
      "outputs": [
        {
          "output_type": "stream",
          "text": [
            "Matrix sparsity: 0.28%\n"
          ],
          "name": "stdout"
        }
      ]
    },
    {
      "cell_type": "code",
      "metadata": {
        "id": "2kd_7-hV7jiV",
        "colab_type": "code",
        "outputId": "c196add4-e75d-4fb1-f422-be5a1487fe34",
        "colab": {
          "base_uri": "https://localhost:8080/",
          "height": 52
        }
      },
      "source": [
        "n_listened_per_user = X.getnnz(axis=1)\n",
        "\n",
        "print(f\"Most active user listened {n_listened_per_user.max()} artists.\")\n",
        "print(f\"Least active user listened {n_listened_per_user.min()} artists.\")"
      ],
      "execution_count": 0,
      "outputs": [
        {
          "output_type": "stream",
          "text": [
            "Most active user listened 50 artists.\n",
            "Least active user listened 1 artists.\n"
          ],
          "name": "stdout"
        }
      ]
    },
    {
      "cell_type": "code",
      "metadata": {
        "id": "I_pH4VeQ76Jj",
        "colab_type": "code",
        "outputId": "169770bb-d88c-4340-e5bf-7163dda2a15c",
        "colab": {
          "base_uri": "https://localhost:8080/",
          "height": 52
        }
      },
      "source": [
        "n_listened_per_artist = X.getnnz(axis=0)\n",
        "\n",
        "print(f\"Most listened artist has {n_listened_per_artist.max()} listen.\")\n",
        "print(f\"Least listened artist has {n_listened_per_artist.min()} listed.\")"
      ],
      "execution_count": 0,
      "outputs": [
        {
          "output_type": "stream",
          "text": [
            "Most listened artist has 611 listen.\n",
            "Least listened artist has 1 listed.\n"
          ],
          "name": "stdout"
        }
      ]
    },
    {
      "cell_type": "code",
      "metadata": {
        "id": "rBgZVZxF8bZ8",
        "colab_type": "code",
        "outputId": "198dc06d-eb97-4641-876a-85ad6382d011",
        "colab": {
          "base_uri": "https://localhost:8080/",
          "height": 296
        }
      },
      "source": [
        "plt.figure(figsize=(16,4))\n",
        "plt.subplot(1,2,1)\n",
        "sns.kdeplot(n_listened_per_user, shade=True)\n",
        "plt.xlim(0)\n",
        "plt.title(\"Number of Listened Per User\", fontsize=14)\n",
        "plt.xlabel(\"number of Listened per user\")\n",
        "plt.ylabel(\"density\")\n",
        "plt.subplot(1,2,2)\n",
        "sns.kdeplot(n_listened_per_artist, shade=True)\n",
        "plt.xlim(0)\n",
        "plt.title(\"Number of Listened Per artist\", fontsize=14)\n",
        "plt.xlabel(\"number of Listened per artist\")\n",
        "plt.ylabel(\"density\")\n",
        "plt.show()"
      ],
      "execution_count": 0,
      "outputs": [
        {
          "output_type": "display_data",
          "data": {
            "image/png": "[encoded data removed]",
            "text/plain": [
              "<Figure size 1152x288 with 2 Axes>"
            ]
          },
          "metadata": {
            "tags": []
          }
        }
      ]
    },
    {
      "cell_type": "markdown",
      "metadata": {
        "id": "niq8joITRRaa",
        "colab_type": "text"
      },
      "source": [
        "## Ejercicio 3  Surprise"
      ]
    },
    {
      "cell_type": "code",
      "metadata": {
        "id": "8imxl40mXMY4",
        "colab_type": "code",
        "colab": {}
      },
      "source": [
        "import io  # needed because of weird encoding of u.item file\n",
        "\n",
        "from surprise import KNNBaseline\n",
        "from surprise import Dataset\n",
        "from surprise import get_dataset_dir\n",
        "from surprise import Reader, Dataset\n",
        "\n",
        "def read_item_names():\n",
        "    \"\"\"Read the u.item file from MovieLens 100-k dataset and return two\n",
        "    mappings to convert raw ids into movie names and movie names into raw ids.\n",
        "    \"\"\"\n",
        "    artist_data = pd.read_csv(\"./data/lastfm/artists.dat\", sep=\"\\t\")\n",
        "    \n",
        "    rid_to_name = {}\n",
        "    name_to_rid = {}\n",
        "    \n",
        "    for index, line in artist_data.iterrows():\n",
        "        rid_to_name[line['id']] = line['name']\n",
        "        name_to_rid[line['name']] = line['id']\n",
        "\n",
        "    return rid_to_name, name_to_rid\n",
        "\n",
        "def get_top_n(artist_name , k = 10):\n",
        "\n",
        "    # First, train the algortihm to compute the similarities between items\n",
        "    reader = Reader()\n",
        "    user_artist_plays = pd.read_csv(\"./data/lastfm/user_artists.dat\", sep=\"\\t\")\n",
        "    user_artist_plays = normalizar(user_artist_plays)\n",
        "    data = Dataset.load_from_df(user_artist_plays[['userID', 'artistID', 'weight']], reader)\n",
        "    trainset = data.build_full_trainset()\n",
        "    sim_options = {'name': 'pearson_baseline', 'user_based': False}\n",
        "    algo = KNNWithMeans(sim_options=sim_options)\n",
        "    algo.fit(trainset)\n",
        "\n",
        "    # Read the mappings raw id <-> movie name\n",
        "    rid_to_name, name_to_rid = read_item_names()\n",
        "\n",
        "    \n",
        "    artist_raw_id = name_to_rid[artist_name]\n",
        "    artist_inner_id = algo.trainset.to_inner_iid(artist_raw_id)\n",
        "\n",
        "    \n",
        "    artist_neighbors = algo.get_neighbors(artist_inner_id, k=10)\n",
        "\n",
        "    # Convert inner ids of the neighbors into names.\n",
        "    artist_neighbors = (algo.trainset.to_raw_iid(inner_id)\n",
        "                          for inner_id in artist_neighbors)\n",
        "    artist_neighbors = (rid_to_name[rid]\n",
        "                          for rid in artist_neighbors)\n",
        "\n",
        "    print()\n",
        "    print('The 10 nearest neighbors of {} are:', artist_name)\n",
        "    for artit in artist_neighbors:\n",
        "        print(artit)"
      ],
      "execution_count": 0,
      "outputs": []
    },
    {
      "cell_type": "code",
      "metadata": {
        "id": "V4nYVRroUuzi",
        "colab_type": "code",
        "outputId": "71a32517-ec7b-4aa2-a5a2-6f06225930d0",
        "colab": {
          "base_uri": "https://localhost:8080/",
          "height": 283
        }
      },
      "source": [
        "get_top_n('David Bowie')"
      ],
      "execution_count": 0,
      "outputs": [
        {
          "output_type": "stream",
          "text": [
            "Estimating biases using als...\n",
            "Computing the pearson_baseline similarity matrix...\n",
            "Done computing similarity matrix.\n",
            "\n",
            "The 10 nearest neighbors of {} are: David Bowie\n",
            "Coldplay\n",
            "Led Zeppelin\n",
            "Vampire Weekend\n",
            "Genesis\n",
            "Avril Lavigne\n",
            "Alice in Chains\n",
            "Katy Perry\n",
            "Bauhaus\n",
            "Talking Heads\n",
            "Eminem\n"
          ],
          "name": "stdout"
        }
      ]
    },
    {
      "cell_type": "markdown",
      "metadata": {
        "id": "lE7DwxDZWEsu",
        "colab_type": "text"
      },
      "source": [
        "## Ejercio 4  "
      ]
    },
    {
      "cell_type": "markdown",
      "metadata": {
        "id": "oZXhoa0FXher",
        "colab_type": "text"
      },
      "source": [
        "### Version basada en matriz"
      ]
    },
    {
      "cell_type": "code",
      "metadata": {
        "colab_type": "code",
        "id": "ag7M6fcJXZIU",
        "colab": {}
      },
      "source": [
        "from sklearn.neighbors import NearestNeighbors\n",
        "\n",
        "def find_similar_artist(movie_id, X, movie_mapper, movie_inv_mapper, k, metric='cosine'):\n",
        "    \"\"\"\n",
        "    Finds k-nearest neighbours for a given movie id.\n",
        "    \n",
        "    Args:\n",
        "        movie_id: id of the movie of interest\n",
        "        X: user-item utility matrix\n",
        "        k: number of similar movies to retrieve\n",
        "        metric: distance metric for kNN calculations\n",
        "    \n",
        "    Output: returns list of k similar movie ID's\n",
        "    \"\"\"\n",
        "    X = X.T\n",
        "    neighbour_ids = []\n",
        "    \n",
        "    movie_ind = movie_mapper[movie_id]\n",
        "    movie_vec = X[movie_ind]\n",
        "    if isinstance(movie_vec, (np.ndarray)):\n",
        "        movie_vec = movie_vec.reshape(1,-1)\n",
        "    # use k+1 since kNN output includes the movieId of interest\n",
        "    kNN = NearestNeighbors(n_neighbors=k+1, algorithm=\"brute\", metric=metric)\n",
        "    kNN.fit(X)\n",
        "    neighbour = kNN.kneighbors(movie_vec, return_distance=False)\n",
        "    for i in range(0,k):\n",
        "        n = neighbour.item(i)\n",
        "        neighbour_ids.append(movie_inv_mapper[n])\n",
        "    neighbour_ids.pop(0)\n",
        "    return neighbour_ids"
      ],
      "execution_count": 0,
      "outputs": []
    },
    {
      "cell_type": "code",
      "metadata": {
        "id": "JKz6PwZhRma7",
        "colab_type": "code",
        "outputId": "709e126b-d1db-4701-c107-05dd37050d48",
        "colab": {
          "base_uri": "https://localhost:8080/",
          "height": 184
        }
      },
      "source": [
        "artist_data = pd.read_csv(\"./data/lastfm/artists.dat\", sep=\"\\t\")\n",
        "artist_id_title = dict(zip(artist_data['id'], artist_data['name']))\n",
        "artist_titles_id = dict(zip(artist_data['name'], artist_data['id']))\n",
        "\n",
        "user_artist_plays = pd.read_csv(\"./data/lastfm/user_artists.dat\", sep=\"\\t\")\n",
        "user_artist_plays = normalizar(user_artist_plays)\n",
        "X, user_mapper, artist_mapper, user_inv_mapper, artist_inv_mapper = create_X(user_artist_plays)\n",
        "\n",
        "artist_name = 'David Bowie'\n",
        "artist_id = artist_titles_id[artist_name]\n",
        "\n",
        "similar_artist = find_similar_artist(artist_id, X, artist_mapper, artist_inv_mapper, metric='cosine', k=10)\n",
        "artist_title = artist_id_title[artist_id]\n",
        "\n",
        "print(f\"Because you listened {artist_title}:\")\n",
        "for i in similar_artist:\n",
        "    print(artist_id_title[i])"
      ],
      "execution_count": 0,
      "outputs": [
        {
          "output_type": "stream",
          "text": [
            "Because you listened David Bowie:\n",
            "Flea\n",
            "Soan\n",
            "Gail Ann Dorsey\n",
            "David Bowie &Moby\n",
            "Minuscule Hey\n",
            "Tin Machine\n",
            "M\n",
            "Charlie Winston\n",
            "Revolver\n"
          ],
          "name": "stdout"
        }
      ]
    },
    {
      "cell_type": "markdown",
      "metadata": {
        "id": "EOA4JNcpXrOH",
        "colab_type": "text"
      },
      "source": [
        "### Version Surprise"
      ]
    },
    {
      "cell_type": "code",
      "metadata": {
        "id": "YoGI3xrQYN0M",
        "colab_type": "code",
        "colab": {}
      },
      "source": [
        "from surprise.model_selection import cross_validate\n",
        "from surprise import NormalPredictor\n",
        "from surprise import KNNBasic\n",
        "from surprise import KNNWithMeans\n",
        "from surprise import KNNWithZScore\n",
        "from surprise import KNNBaseline\n",
        "from surprise import SVD\n",
        "from surprise import BaselineOnly\n",
        "from surprise import SVDpp\n",
        "from surprise import NMF\n",
        "from surprise import SlopeOne\n",
        "from surprise import CoClustering\n",
        "from surprise.accuracy import rmse\n",
        "from surprise import accuracy\n",
        "from surprise.model_selection import train_test_split"
      ],
      "execution_count": 0,
      "outputs": []
    },
    {
      "cell_type": "code",
      "metadata": {
        "id": "3YtlbD2rX2_1",
        "colab_type": "code",
        "outputId": "d8cbf1dd-ab15-4fe9-f4df-f0c9ae7fadad",
        "colab": {
          "base_uri": "https://localhost:8080/",
          "height": 941
        }
      },
      "source": [
        "reader = Reader()\n",
        "user_artist_plays = pd.read_csv(\"./data/lastfm/user_artists.dat\", sep=\"\\t\")\n",
        "user_artist_plays = normalizar_libro(user_artist_plays)\n",
        "data = Dataset.load_from_df(user_artist_plays[['userID', 'artistID', 'weight']], reader)\n",
        "benchmark = []\n",
        "# Iterate over all algorithms\n",
        "for algorithm in [SVD(), SVDpp(), SlopeOne(), NMF(), NormalPredictor(), KNNBaseline(), KNNBasic(), KNNWithMeans(), KNNWithZScore(), BaselineOnly(), CoClustering()]:\n",
        "    # Perform cross validation\n",
        "    results = cross_validate(algorithm, data, measures=['RMSE'], cv=3, verbose=False)\n",
        "    \n",
        "    # Get results & append algorithm name\n",
        "    tmp = pd.DataFrame.from_dict(results).mean(axis=0)\n",
        "    tmp = tmp.append(pd.Series([str(algorithm).split(' ')[0].split('.')[-1]], index=['Algorithm']))\n",
        "    benchmark.append(tmp)\n",
        "    \n",
        "pd.DataFrame(benchmark).set_index('Algorithm').sort_values('test_rmse')  "
      ],
      "execution_count": 0,
      "outputs": [
        {
          "output_type": "stream",
          "text": [
            "Estimating biases using als...\n",
            "Computing the msd similarity matrix...\n",
            "Done computing similarity matrix.\n",
            "Estimating biases using als...\n",
            "Computing the msd similarity matrix...\n",
            "Done computing similarity matrix.\n",
            "Estimating biases using als...\n",
            "Computing the msd similarity matrix...\n",
            "Done computing similarity matrix.\n",
            "Computing the msd similarity matrix...\n",
            "Done computing similarity matrix.\n",
            "Computing the msd similarity matrix...\n",
            "Done computing similarity matrix.\n",
            "Computing the msd similarity matrix...\n",
            "Done computing similarity matrix.\n",
            "Computing the msd similarity matrix...\n",
            "Done computing similarity matrix.\n",
            "Computing the msd similarity matrix...\n",
            "Done computing similarity matrix.\n",
            "Computing the msd similarity matrix...\n",
            "Done computing similarity matrix.\n",
            "Computing the msd similarity matrix...\n",
            "Done computing similarity matrix.\n",
            "Computing the msd similarity matrix...\n",
            "Done computing similarity matrix.\n",
            "Computing the msd similarity matrix...\n",
            "Done computing similarity matrix.\n",
            "Estimating biases using als...\n",
            "Estimating biases using als...\n",
            "Estimating biases using als...\n"
          ],
          "name": "stdout"
        },
        {
          "output_type": "execute_result",
          "data": {
            "text/html": [
              "<div>\n",
              "<style scoped>\n",
              "    .dataframe tbody tr th:only-of-type {\n",
              "        vertical-align: middle;\n",
              "    }\n",
              "\n",
              "    .dataframe tbody tr th {\n",
              "        vertical-align: top;\n",
              "    }\n",
              "\n",
              "    .dataframe thead th {\n",
              "        text-align: right;\n",
              "    }\n",
              "</style>\n",
              "<table border=\"1\" class=\"dataframe\">\n",
              "  <thead>\n",
              "    <tr style=\"text-align: right;\">\n",
              "      <th></th>\n",
              "      <th>test_rmse</th>\n",
              "      <th>fit_time</th>\n",
              "      <th>test_time</th>\n",
              "    </tr>\n",
              "    <tr>\n",
              "      <th>Algorithm</th>\n",
              "      <th></th>\n",
              "      <th></th>\n",
              "      <th></th>\n",
              "    </tr>\n",
              "  </thead>\n",
              "  <tbody>\n",
              "    <tr>\n",
              "      <th>BaselineOnly</th>\n",
              "      <td>1.705974</td>\n",
              "      <td>0.189569</td>\n",
              "      <td>0.241748</td>\n",
              "    </tr>\n",
              "    <tr>\n",
              "      <th>SlopeOne</th>\n",
              "      <td>1.709780</td>\n",
              "      <td>9.287261</td>\n",
              "      <td>1.109745</td>\n",
              "    </tr>\n",
              "    <tr>\n",
              "      <th>SVD</th>\n",
              "      <td>1.728671</td>\n",
              "      <td>3.975567</td>\n",
              "      <td>0.264393</td>\n",
              "    </tr>\n",
              "    <tr>\n",
              "      <th>KNNBasic</th>\n",
              "      <td>1.731093</td>\n",
              "      <td>0.332616</td>\n",
              "      <td>2.871050</td>\n",
              "    </tr>\n",
              "    <tr>\n",
              "      <th>SVDpp</th>\n",
              "      <td>1.738635</td>\n",
              "      <td>33.981200</td>\n",
              "      <td>1.669121</td>\n",
              "    </tr>\n",
              "    <tr>\n",
              "      <th>KNNBaseline</th>\n",
              "      <td>1.740936</td>\n",
              "      <td>0.604582</td>\n",
              "      <td>3.440248</td>\n",
              "    </tr>\n",
              "    <tr>\n",
              "      <th>CoClustering</th>\n",
              "      <td>1.742112</td>\n",
              "      <td>3.083162</td>\n",
              "      <td>0.197089</td>\n",
              "    </tr>\n",
              "    <tr>\n",
              "      <th>KNNWithMeans</th>\n",
              "      <td>1.751181</td>\n",
              "      <td>0.413439</td>\n",
              "      <td>3.287416</td>\n",
              "    </tr>\n",
              "    <tr>\n",
              "      <th>KNNWithZScore</th>\n",
              "      <td>1.814248</td>\n",
              "      <td>0.483293</td>\n",
              "      <td>3.230880</td>\n",
              "    </tr>\n",
              "    <tr>\n",
              "      <th>NMF</th>\n",
              "      <td>1.824644</td>\n",
              "      <td>5.489350</td>\n",
              "      <td>0.269123</td>\n",
              "    </tr>\n",
              "    <tr>\n",
              "      <th>NormalPredictor</th>\n",
              "      <td>2.110950</td>\n",
              "      <td>0.107464</td>\n",
              "      <td>0.310295</td>\n",
              "    </tr>\n",
              "  </tbody>\n",
              "</table>\n",
              "</div>"
            ],
            "text/plain": [
              "                 test_rmse   fit_time  test_time\n",
              "Algorithm                                       \n",
              "BaselineOnly      1.705974   0.189569   0.241748\n",
              "SlopeOne          1.709780   9.287261   1.109745\n",
              "SVD               1.728671   3.975567   0.264393\n",
              "KNNBasic          1.731093   0.332616   2.871050\n",
              "SVDpp             1.738635  33.981200   1.669121\n",
              "KNNBaseline       1.740936   0.604582   3.440248\n",
              "CoClustering      1.742112   3.083162   0.197089\n",
              "KNNWithMeans      1.751181   0.413439   3.287416\n",
              "KNNWithZScore     1.814248   0.483293   3.230880\n",
              "NMF               1.824644   5.489350   0.269123\n",
              "NormalPredictor   2.110950   0.107464   0.310295"
            ]
          },
          "metadata": {
            "tags": []
          },
          "execution_count": 37
        }
      ]
    },
    {
      "cell_type": "code",
      "metadata": {
        "id": "2smke5WiYeKl",
        "colab_type": "code",
        "colab": {}
      },
      "source": [
        "\n",
        "surprise_results = pd.DataFrame(benchmark).set_index('Algorithm').sort_values('test_rmse')\n"
      ],
      "execution_count": 0,
      "outputs": []
    },
    {
      "cell_type": "code",
      "metadata": {
        "id": "XwTciJCpYg-N",
        "colab_type": "code",
        "outputId": "0dfbdaff-16ed-4047-a937-839845527330",
        "colab": {
          "base_uri": "https://localhost:8080/",
          "height": 392
        }
      },
      "source": [
        "surprise_results"
      ],
      "execution_count": 0,
      "outputs": [
        {
          "output_type": "execute_result",
          "data": {
            "text/html": [
              "<div>\n",
              "<style scoped>\n",
              "    .dataframe tbody tr th:only-of-type {\n",
              "        vertical-align: middle;\n",
              "    }\n",
              "\n",
              "    .dataframe tbody tr th {\n",
              "        vertical-align: top;\n",
              "    }\n",
              "\n",
              "    .dataframe thead th {\n",
              "        text-align: right;\n",
              "    }\n",
              "</style>\n",
              "<table border=\"1\" class=\"dataframe\">\n",
              "  <thead>\n",
              "    <tr style=\"text-align: right;\">\n",
              "      <th></th>\n",
              "      <th>test_rmse</th>\n",
              "      <th>fit_time</th>\n",
              "      <th>test_time</th>\n",
              "    </tr>\n",
              "    <tr>\n",
              "      <th>Algorithm</th>\n",
              "      <th></th>\n",
              "      <th></th>\n",
              "      <th></th>\n",
              "    </tr>\n",
              "  </thead>\n",
              "  <tbody>\n",
              "    <tr>\n",
              "      <th>KNNWithMeans</th>\n",
              "      <td>0.980331</td>\n",
              "      <td>0.338681</td>\n",
              "      <td>2.880849</td>\n",
              "    </tr>\n",
              "    <tr>\n",
              "      <th>SlopeOne</th>\n",
              "      <td>0.980331</td>\n",
              "      <td>6.765261</td>\n",
              "      <td>1.029757</td>\n",
              "    </tr>\n",
              "    <tr>\n",
              "      <th>KNNWithZScore</th>\n",
              "      <td>0.980331</td>\n",
              "      <td>0.447561</td>\n",
              "      <td>3.083827</td>\n",
              "    </tr>\n",
              "    <tr>\n",
              "      <th>BaselineOnly</th>\n",
              "      <td>0.980331</td>\n",
              "      <td>0.227030</td>\n",
              "      <td>0.311371</td>\n",
              "    </tr>\n",
              "    <tr>\n",
              "      <th>SVDpp</th>\n",
              "      <td>0.980331</td>\n",
              "      <td>33.636494</td>\n",
              "      <td>1.575628</td>\n",
              "    </tr>\n",
              "    <tr>\n",
              "      <th>SVD</th>\n",
              "      <td>0.980331</td>\n",
              "      <td>3.925856</td>\n",
              "      <td>0.347363</td>\n",
              "    </tr>\n",
              "    <tr>\n",
              "      <th>NormalPredictor</th>\n",
              "      <td>0.980331</td>\n",
              "      <td>0.110242</td>\n",
              "      <td>0.358131</td>\n",
              "    </tr>\n",
              "    <tr>\n",
              "      <th>CoClustering</th>\n",
              "      <td>0.980331</td>\n",
              "      <td>2.668754</td>\n",
              "      <td>0.277465</td>\n",
              "    </tr>\n",
              "    <tr>\n",
              "      <th>KNNBasic</th>\n",
              "      <td>0.980331</td>\n",
              "      <td>0.302626</td>\n",
              "      <td>2.775601</td>\n",
              "    </tr>\n",
              "    <tr>\n",
              "      <th>KNNBaseline</th>\n",
              "      <td>0.980331</td>\n",
              "      <td>0.511370</td>\n",
              "      <td>3.300110</td>\n",
              "    </tr>\n",
              "    <tr>\n",
              "      <th>NMF</th>\n",
              "      <td>0.980331</td>\n",
              "      <td>5.362962</td>\n",
              "      <td>0.305324</td>\n",
              "    </tr>\n",
              "  </tbody>\n",
              "</table>\n",
              "</div>"
            ],
            "text/plain": [
              "                 test_rmse   fit_time  test_time\n",
              "Algorithm                                       \n",
              "KNNWithMeans      0.980331   0.338681   2.880849\n",
              "SlopeOne          0.980331   6.765261   1.029757\n",
              "KNNWithZScore     0.980331   0.447561   3.083827\n",
              "BaselineOnly      0.980331   0.227030   0.311371\n",
              "SVDpp             0.980331  33.636494   1.575628\n",
              "SVD               0.980331   3.925856   0.347363\n",
              "NormalPredictor   0.980331   0.110242   0.358131\n",
              "CoClustering      0.980331   2.668754   0.277465\n",
              "KNNBasic          0.980331   0.302626   2.775601\n",
              "KNNBaseline       0.980331   0.511370   3.300110\n",
              "NMF               0.980331   5.362962   0.305324"
            ]
          },
          "metadata": {
            "tags": []
          },
          "execution_count": 15
        }
      ]
    },
    {
      "cell_type": "markdown",
      "metadata": {
        "id": "aB0B6bRCXwCA",
        "colab_type": "text"
      },
      "source": [
        "## WEB"
      ]
    },
    {
      "cell_type": "markdown",
      "metadata": {
        "id": "Tu1REvHJsP3M",
        "colab_type": "text"
      },
      "source": [
        "### Scrap de imagen update url"
      ]
    },
    {
      "cell_type": "markdown",
      "metadata": {
        "id": "GfJsz2Q4sowW",
        "colab_type": "text"
      },
      "source": [
        "\n",
        "\n",
        "```\n",
        "for records in tqdm(user_artist):\n",
        "        webapp.logger.info(records.url)\n",
        "        response = requests.get(url = records.url)\n",
        "        soup = BeautifulSoup(response.text, \"html.parser\")\n",
        "        \n",
        "        one_a_tag = soup.find_all(\"meta\", property=\"og:image\")\n",
        "        url = one_a_tag[0]\n",
        "        link = url['content']\n",
        "        \n",
        "        webapp.logger.info(link)    \n",
        "\n",
        "        db.session.query(model.Artist).\\\n",
        "           filter(model.Artist.id==records.id).update({\"picture_id\": link})\n",
        "        db.session.commit()\n",
        "```\n",
        "\n"
      ]
    },
    {
      "cell_type": "markdown",
      "metadata": {
        "id": "j6D9o48hqw3u",
        "colab_type": "text"
      },
      "source": [
        "### code for deploy"
      ]
    },
    {
      "cell_type": "code",
      "metadata": {
        "id": "-vI4N2oLz9wn",
        "colab_type": "code",
        "colab": {}
      },
      "source": [
        "import os\n",
        "import time\n",
        "import numpy as np\n",
        "# data science imports\n",
        "import pandas as pd\n",
        "from scipy.sparse import csr_matrix\n",
        "from sklearn.neighbors import NearestNeighbors\n",
        "import datetime\n",
        "import sqlite3\n",
        "\n",
        "\n",
        "class KnnRecommender:\n",
        "    \"\"\"\n",
        "    This is an item-based collaborative filtering recommender with\n",
        "    KNN implmented by sklearn\n",
        "    \"\"\"\n",
        "    def __init__(self, path_user_artist, path_artist):\n",
        "        print(datetime.datetime.now(),'\\tINFO\\tContructor')\n",
        "        \"\"\"\n",
        "        Recommender requires path to data: movies data and ratings data\n",
        "        Parameters\n",
        "        ----------\n",
        "        path_movies: str, movies data file path\n",
        "        path_ratings: str, ratings data file path\n",
        "        \"\"\"\n",
        "        self.path_user_artist = path_user_artist\n",
        "        self.path_artist = path_artist\n",
        "        self.model = NearestNeighbors()\n",
        "\n",
        "    def set_model_params(self, n_neighbors, algorithm, metric, n_jobs=None):\n",
        "        \"\"\"\n",
        "        set model params for sklearn.neighbors.NearestNeighbors\n",
        "        Parameters\n",
        "        ----------\n",
        "        n_neighbors: int, optional (default = 5)\n",
        "        algorithm: {'auto', 'ball_tree', 'kd_tree', 'brute'}, optional\n",
        "        metric: string or callable, default 'minkowski', or one of\n",
        "            ['cityblock', 'cosine', 'euclidean', 'l1', 'l2', 'manhattan']\n",
        "        n_jobs: int or None, optional (default=None)\n",
        "        \"\"\"\n",
        "        print(datetime.datetime.now(), '\\tINFO\\tset_model_params')\n",
        "        self.n_neighbors = n_neighbors\n",
        "        if n_jobs and (n_jobs > 1 or n_jobs == -1):\n",
        "            os.environ['JOBLIB_TEMP_FOLDER'] = '/tmp'\n",
        "        self.model.set_params(**{\n",
        "            'n_neighbors': n_neighbors,\n",
        "            'algorithm': algorithm,\n",
        "            'metric': metric,\n",
        "            'n_jobs': n_jobs})\n",
        "        \n",
        "    def create_X(self, df):\n",
        "        print(datetime.datetime.now(),'\\tINFO\\tcreate_X')\n",
        "        M = df['userID'].nunique()\n",
        "        N = df['artistID'].nunique()\n",
        "\n",
        "        user_mapper = dict(zip(np.unique(df[\"userID\"]), list(range(M))))\n",
        "        artist_mapper = dict(zip(np.unique(df[\"artistID\"]), list(range(N))))\n",
        "        \n",
        "        user_inv_mapper = dict(zip(list(range(M)), np.unique(df[\"userID\"])))\n",
        "        artist_inv_mapper = dict(zip(list(range(N)), np.unique(df[\"artistID\"])))\n",
        "        \n",
        "        user_index = [user_mapper[i] for i in df['userID']]\n",
        "        item_index = [artist_mapper[i] for i in df['artistID']]\n",
        "\n",
        "        X = csr_matrix((df[\"weight\"], (user_index,item_index)), shape=(M,N))\n",
        "        \n",
        "        return X, user_mapper, artist_mapper, user_inv_mapper, artist_inv_mapper\n",
        "\n",
        "    def normalizar(self, X):\n",
        "        print(datetime.datetime.now(),'\\tINFO\\tnormalizar')\n",
        "        sum_ratings_per_artist = X.sum(axis=0)\n",
        "        n_listened_per_artist = X.getnnz(axis=0)\n",
        "        mean_rating_per_artist = sum_ratings_per_artist/n_listened_per_artist\n",
        "        X_mean_artist = np.tile(mean_rating_per_artist, (X.shape[0],1))\n",
        "        return X - csr_matrix(X_mean_artist)\n",
        "\n",
        "    def _prep_data(self):\n",
        "        \"\"\"\n",
        "        prepare data for recommender\n",
        "        1. movie-user scipy sparse matrix\n",
        "        2. hashmap of movie to row index in movie-user scipy sparse matrix\n",
        "        \"\"\"\n",
        "        print(datetime.datetime.now(), '\\tINFO\\t_prep_data')\n",
        "        # read data\n",
        "        df_user_artist = pd.read_csv(\n",
        "            os.path.join(self.path_user_artist), sep=\"\\t\")\n",
        "        df_user_artist['weight'] = df_user_artist.apply(lambda row: row['weight']/df_user_artist.groupby('userID')['weight'].sum()[row['userID']], axis =  1)\n",
        "        \n",
        "        df_artist = pd.read_csv(\n",
        "            os.path.join(self.path_artist), sep=\"\\t\")\n",
        "        \n",
        "        artist_titles = dict(zip(df_artist['id'], df_artist['name']))\n",
        "        # transform matrix to scipy sparse matrix\n",
        "        X, user_mapper, artist_mapper, user_inv_mapper, artist_inv_mapper = self.create_X(df_user_artist)\n",
        "\n",
        "        X_norm = self.normalizar(X)\n",
        "\n",
        "        return X_norm, artist_titles, artist_mapper,artist_inv_mapper\n",
        "\n",
        "\n",
        "    \n",
        "\n",
        "    def make_recommendations(self, artist_id, n_recommendations):\n",
        "        \"\"\"\n",
        "        make top n movie recommendations\n",
        "        Parameters\n",
        "        ----------\n",
        "        fav_movie: str, name of user input movie\n",
        "        n_recommendations: int, top n recommendations\n",
        "        \"\"\"\n",
        "        print(datetime.datetime.now(),'\\tINFO\\tmake_recommendations')\n",
        "        # get data\n",
        "        artist_user_mat_sparse, artist, artist_mapper,artist_inv_mapper = self._prep_data()\n",
        "\n",
        "        similar_artist = self.find_similar_artist(artist_id, artist_user_mat_sparse, artist_mapper, artist_inv_mapper)\n",
        "\n",
        "        artist_title = artist[artist_id]\n",
        "        hora = datetime.datetime.now()\n",
        "        print(\"{hora}\\tINFO\\tBecause you listened {artist_title}:\")\n",
        "        artist_list = []\n",
        "        for i in similar_artist:\n",
        "            artist_list.append(artist[i])\n",
        "        return similar_artist\n",
        "\n",
        "    def find_similar_artist(self, movie_id, X, artist_mapper, artist_inv_mapper):\n",
        "        \"\"\"\n",
        "        Finds k-nearest neighbours for a given movie id.\n",
        "        \n",
        "        Args:\n",
        "            movie_id: id of the movie of interest\n",
        "            X: user-item utility matrix\n",
        "            k: number of similar movies to retrieve\n",
        "            metric: distance metric for kNN calculations\n",
        "        \n",
        "        Output: returns list of k similar movie ID's\n",
        "        \"\"\"\n",
        "        print(datetime.datetime.now(),'\\tINFO\\tfind_similar_artist')\n",
        "        X = X.T\n",
        "        neighbour_ids = []\n",
        "        \n",
        "        movie_ind = artist_mapper[movie_id]\n",
        "        movie_vec = X[movie_ind]\n",
        "        if isinstance(movie_vec, (np.ndarray)):\n",
        "            movie_vec = movie_vec.reshape(1,-1)\n",
        "        # use k+1 since kNN output includes the movieId of interest\n",
        "        self.model.fit(X)\n",
        "        neighbour = self.model.kneighbors(movie_vec, return_distance=False)\n",
        "        for i in range(0,self.n_neighbors):\n",
        "            n = neighbour.item(i)\n",
        "            neighbour_ids.append(artist_inv_mapper[n])\n",
        "        neighbour_ids.pop(0)\n",
        "        return neighbour_ids\n",
        "\n",
        "\n",
        "\n",
        "def save_db(conn, artist_id, recommende_list):\n",
        "    print(datetime.datetime.now(),'\\tINFO\\tsave_db')\n",
        "    cursorObj = conn.cursor()  \n",
        "    for each in range(0,len(recommende_list)):\n",
        "      entities = (artist_id,each,  int(recommende_list[each]))\n",
        "      cursorObj.execute('INSERT INTO recommendation(artist_id,orden ,recommended_artist_id) VALUES(?, ?,?)', entities)\n",
        "      conn.commit()  \n",
        "\n",
        "    \n",
        "\n",
        "def main():\n",
        "    # get args\n",
        "    print(datetime.datetime.now(), '\\tINFO\\tSTART')\n",
        "    #conn = sqlite3.connect('database.db')\n",
        "    data_path = './data/lastfm/'\n",
        "    user_artist_plays = \"user_artists.dat\"\n",
        "    artist = \"artists.dat\"\n",
        "    top_n = 10\n",
        "\n",
        "    df_artist = pd.read_csv(os.path.join('./data/lastfm/' + artist), sep=\"\\t\")\n",
        "    \n",
        "    \n",
        "    #for artist_id in df_artist['id'][:3]:\n",
        "    artist_id = 641\n",
        "    # initial recommender system\n",
        "    recommender = KnnRecommender(\n",
        "        os.path.join(data_path, user_artist_plays),\n",
        "        os.path.join(data_path, artist))\n",
        "    # set params\n",
        "    recommender.set_model_params(top_n+1, 'brute', 'cosine', -1)\n",
        "    # make recommendations\n",
        "    artistas = recommender.make_recommendations(artist_id, top_n)\n",
        "    #save_db(conn, artist_id, artistas)\n",
        "    print(datetime.datetime.now(),'\\tINFO\\t', artistas)\n",
        "\n",
        "    "
      ],
      "execution_count": 0,
      "outputs": []
    },
    {
      "cell_type": "code",
      "metadata": {
        "id": "nvMe_iQvo06j",
        "colab_type": "code",
        "outputId": "fa625bce-9335-4a31-d0b1-b1f5ac4acb7a",
        "colab": {
          "base_uri": "https://localhost:8080/",
          "height": 184
        }
      },
      "source": [
        "main()"
      ],
      "execution_count": 0,
      "outputs": [
        {
          "output_type": "stream",
          "text": [
            "2019-11-20 00:37:56.536546 \tINFO\tSTART\n",
            "2019-11-20 00:37:56.580477 \tINFO\tContructor\n",
            "2019-11-20 00:37:56.580839 \tINFO\tset_model_params\n",
            "2019-11-20 00:37:56.581329 \tINFO\tmake_recommendations\n",
            "2019-11-20 00:37:56.581588 \tINFO\t_prep_data\n",
            "2019-11-20 00:44:50.232211 \tINFO\tcreate_X\n",
            "2019-11-20 00:44:50.328031 \tINFO\tnormalizar\n",
            "2019-11-20 00:44:51.664834 \tINFO\tfind_similar_artist\n",
            "{hora}\tINFO\tBecause you listened {artist_title}:\n",
            "2019-11-20 00:44:53.630807 \tINFO\t [6119, 14536, 14539, 14541, 14535, 14537, 14538, 3303, 12959, 2065]\n"
          ],
          "name": "stdout"
        }
      ]
    },
    {
      "cell_type": "code",
      "metadata": {
        "id": "Z3rZembao6i2",
        "colab_type": "code",
        "colab": {}
      },
      "source": [
        ""
      ],
      "execution_count": 0,
      "outputs": []
    }
  ]
}